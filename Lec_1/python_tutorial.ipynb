{
 "cells": [
  {
   "cell_type": "markdown",
   "metadata": {},
   "source": [
    "# Python and Basic Programming"
   ]
  },
  {
   "cell_type": "markdown",
   "metadata": {},
   "source": [
    "## Variables and Basic Data Types"
   ]
  },
  {
   "cell_type": "markdown",
   "metadata": {},
   "source": [
    "#### Numbers"
   ]
  },
  {
   "cell_type": "code",
   "execution_count": null,
   "metadata": {},
   "outputs": [],
   "source": [
    "x = 2\n",
    "print(type(x))\n",
    "print(\"x is:\",x,\"and x + 1 is:\", x+1)\n",
    "print(\"x multiply by 3 is:\",x*3, \"and x^3 is:\", x**3)\n",
    "x += 1\n",
    "print(x)"
   ]
  },
  {
   "cell_type": "code",
   "execution_count": null,
   "metadata": {},
   "outputs": [],
   "source": [
    "x = 2.0\n",
    "print(type(x))\n",
    "print(\"x is:\",x,\"and x + 1 is:\", x+1)\n",
    "print(\"x multiply by 3 is:\",x*3, \"and x^3 is:\", x**3)\n",
    "x += 1\n",
    "print(x)"
   ]
  },
  {
   "cell_type": "code",
   "execution_count": null,
   "metadata": {},
   "outputs": [],
   "source": [
    "x = 2\n",
    "print(type(x))\n",
    "print(\"x is:\",x,\"and x + 1 is:\", x+1)\n",
    "print(\"x multiply by 3 is:\",x*3, \"and x^3 is:\", x**3)\n",
    "x += 1.0\n",
    "print(type(x))\n",
    "print(x)"
   ]
  },
  {
   "cell_type": "markdown",
   "metadata": {},
   "source": [
    "#### Strings"
   ]
  },
  {
   "cell_type": "code",
   "execution_count": null,
   "metadata": {},
   "outputs": [],
   "source": [
    "x = \"bcs_iitk\"\n",
    "print(type(x))\n",
    "print(x)\n",
    "print(len(x))\n",
    "\n",
    "y = \"winter camp '19\"\n",
    "z = x + \" \" + y\n",
    "print(z)"
   ]
  },
  {
   "cell_type": "markdown",
   "metadata": {},
   "source": [
    "#### Booleans"
   ]
  },
  {
   "cell_type": "code",
   "execution_count": null,
   "metadata": {},
   "outputs": [],
   "source": [
    "x = True\n",
    "y = False\n",
    "print(type(x))\n",
    "print(x and y)\n",
    "print(x or y)\n",
    "print(not x)"
   ]
  },
  {
   "cell_type": "markdown",
   "metadata": {},
   "source": [
    "### Lists and Dictionaries"
   ]
  },
  {
   "cell_type": "markdown",
   "metadata": {},
   "source": [
    "Lists are container which can contain several elements or values in one variable name."
   ]
  },
  {
   "cell_type": "code",
   "execution_count": null,
   "metadata": {},
   "outputs": [],
   "source": [
    "x = [5, 1, 8]\n",
    "print(x)\n",
    "\n",
    "# Calling individual element\n",
    "print(\"1st element:\",x[0],\"and 1st last element:\", x[-1])\n",
    "\n",
    "# change value\n",
    "x[1] = 2\n",
    "print(\"Change Value:\",x)\n",
    "\n",
    "# Add a new element\n",
    "x.append(4)\n",
    "print(\"new element:\",x)\n",
    "\n",
    "# Removing any element and store itame:\",x.pop(3), x)"
   ]
  },
  {
   "cell_type": "markdown",
   "metadata": {},
   "source": [
    "#### Slicing: \n",
    "In python you can easily get the sublists using slicing."
   ]
  },
  {
   "cell_type": "code",
   "execution_count": null,
   "metadata": {},
   "outputs": [],
   "source": [
    "x = [*range(10)]\n",
    "print(x)\n",
    "print(x[:5])\n",
    "print(x[5:])\n",
    "print(x[3:8])\n",
    "x[:3] = [*range(3,6)]\n",
    "print(x)"
   ]
  },
  {
   "cell_type": "markdown",
   "metadata": {},
   "source": [
    "Dictionary are variables which stores key value pairs"
   ]
  },
  {
   "cell_type": "code",
   "execution_count": null,
   "metadata": {},
   "outputs": [],
   "source": [
    "student_1 = {'Name': 'Shashi', 'Branch': 'Electrical', 'Roll': 160645}\n",
    "print(student_1)\n",
    "print(student_1['Name'])\n",
    "print(student_1['Roll'])"
   ]
  },
  {
   "cell_type": "markdown",
   "metadata": {},
   "source": [
    "## Conditional Statements\n",
    "conditional statements are used for decision making"
   ]
  },
  {
   "cell_type": "code",
   "execution_count": null,
   "metadata": {},
   "outputs": [],
   "source": [
    "x = 1\n",
    "\n",
    "if x == 1:\n",
    "    print(\"x is 1\")\n",
    "else:\n",
    "    print(\"x is not 1\")\n",
    "\n",
    "x = 2\n",
    "if x == 1:\n",
    "    print(\"x is 1\")\n",
    "else:\n",
    "    print(\"x is not 1\")\n",
    "    \n",
    "x = 2\n",
    "if x == 1:\n",
    "    print(\"x is 1\")\n",
    "elif x == 2:\n",
    "    print(\"x is 2\")\n",
    "else:\n",
    "    print(\"x is neither 1 nor 2\")\n",
    "    \n",
    "x = 3\n",
    "if x == 1:\n",
    "    print(\"x is 1\")\n",
    "elif x == 2:\n",
    "    print(\"x is 2\")\n",
    "else:\n",
    "    print(\"x is neither 1 nor 2\")"
   ]
  },
  {
   "cell_type": "markdown",
   "metadata": {},
   "source": [
    "## Looping\n",
    "looping is use to run same kind of lines multiple times"
   ]
  },
  {
   "cell_type": "markdown",
   "metadata": {},
   "source": [
    "#### For Loop"
   ]
  },
  {
   "cell_type": "code",
   "execution_count": null,
   "metadata": {},
   "outputs": [],
   "source": [
    "for i in range(5):\n",
    "    print(i)"
   ]
  },
  {
   "cell_type": "code",
   "execution_count": null,
   "metadata": {},
   "outputs": [],
   "source": [
    "x = [2, 5, 6]\n",
    "for i in x:\n",
    "    print(i)"
   ]
  },
  {
   "cell_type": "code",
   "execution_count": null,
   "metadata": {},
   "outputs": [],
   "source": [
    "for i in range(1, 8, 2):\n",
    "    print(i)"
   ]
  },
  {
   "cell_type": "code",
   "execution_count": null,
   "metadata": {},
   "outputs": [],
   "source": [
    "# list comprehension\n",
    "x = [*range(5)]\n",
    "x_sq = [i ** 2 for i in x]\n",
    "print(x)\n",
    "print(x_sq)"
   ]
  },
  {
   "cell_type": "markdown",
   "metadata": {},
   "source": [
    "#### While Loop"
   ]
  },
  {
   "cell_type": "code",
   "execution_count": null,
   "metadata": {},
   "outputs": [],
   "source": [
    "x = 1\n",
    "while x<5:\n",
    "    print(x)\n",
    "    x+=1"
   ]
  },
  {
   "cell_type": "markdown",
   "metadata": {},
   "source": [
    "## Functions"
   ]
  },
  {
   "cell_type": "code",
   "execution_count": null,
   "metadata": {},
   "outputs": [],
   "source": [
    "def poly(poly_idx, x):\n",
    "    value = 0\n",
    "    l = len(poly_idx) - 1\n",
    "    \n",
    "    for i in range(l+1):\n",
    "        value += poly_idx[i]*(x**(l-i))\n",
    "        \n",
    "    return value\n",
    "\n",
    "print(\"x^2 + x + 1 at x = 0 is:\", poly([1, 1, 1], 0))\n",
    "print(\"x^2 + x + 1 at x = 1 is:\", poly([1, 1, 1], 1))\n",
    "print(\"x^2 + x + 1 at x = 2 is:\", poly([1, 1, 1], 2))"
   ]
  },
  {
   "cell_type": "markdown",
   "metadata": {},
   "source": [
    "## Classes"
   ]
  },
  {
   "cell_type": "code",
   "execution_count": null,
   "metadata": {},
   "outputs": [],
   "source": [
    "class Person():\n",
    "    def __init__(self, name, roll):\n",
    "        self.name = name\n",
    "        self.roll = roll\n",
    "        \n",
    "    def get_roll(self):\n",
    "        return self.roll\n",
    "    \n",
    "    def greet(self, say_hi_bye=\"Hi\"):\n",
    "        print(say_hi_bye, self.name) \n",
    "        \n",
    "p1 = Person(name=\"Shashi\", roll=160645)\n",
    "print(p1.get_roll())\n",
    "p1.greet()\n",
    "p1.greet(say_hi_bye=\"Bye\")"
   ]
  },
  {
   "cell_type": "code",
   "execution_count": null,
   "metadata": {},
   "outputs": [],
   "source": []
  }
 ],
 "metadata": {
  "kernelspec": {
   "display_name": "Python 3",
   "language": "python",
   "name": "python3"
  },
  "language_info": {
   "codemirror_mode": {
    "name": "ipython",
    "version": 3
   },
   "file_extension": ".py",
   "mimetype": "text/x-python",
   "name": "python",
   "nbconvert_exporter": "python",
   "pygments_lexer": "ipython3",
   "version": "3.7.5"
  }
 },
 "nbformat": 4,
 "nbformat_minor": 2
}
